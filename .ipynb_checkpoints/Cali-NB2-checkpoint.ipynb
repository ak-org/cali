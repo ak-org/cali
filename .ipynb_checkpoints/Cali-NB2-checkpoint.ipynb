{
 "cells": [
  {
   "cell_type": "code",
   "execution_count": 42,
   "metadata": {
    "collapsed": true
   },
   "outputs": [],
   "source": [
    "import numpy as np\n",
    "import pandas as pd\n",
    "import io\n",
    "import requests\n",
    "from urllib.request import urlopen\n",
    "from io import StringIO\n",
    "import matplotlib.pyplot as plt"
   ]
  },
  {
   "cell_type": "code",
   "execution_count": 43,
   "metadata": {},
   "outputs": [
    {
     "name": "stderr",
     "output_type": "stream",
     "text": [
      "/Users/exc7s65/anaconda/lib/python3.6/site-packages/requests/packages/urllib3/connectionpool.py:852: InsecureRequestWarning: Unverified HTTPS request is being made. Adding certificate verification is strongly advised. See: https://urllib3.readthedocs.io/en/latest/advanced-usage.html#ssl-warnings\n",
      "  InsecureRequestWarning)\n",
      "/Users/exc7s65/anaconda/lib/python3.6/site-packages/IPython/core/interactiveshell.py:2717: DtypeWarning: Columns (2,3,4,5) have mixed types. Specify dtype option on import or set low_memory=False.\n",
      "  interactivity=interactivity, compiler=compiler, result=result)\n",
      "/Users/exc7s65/anaconda/lib/python3.6/site-packages/requests/packages/urllib3/connectionpool.py:852: InsecureRequestWarning: Unverified HTTPS request is being made. Adding certificate verification is strongly advised. See: https://urllib3.readthedocs.io/en/latest/advanced-usage.html#ssl-warnings\n",
      "  InsecureRequestWarning)\n",
      "/Users/exc7s65/anaconda/lib/python3.6/site-packages/IPython/core/interactiveshell.py:2717: DtypeWarning: Columns (3,4) have mixed types. Specify dtype option on import or set low_memory=False.\n",
      "  interactivity=interactivity, compiler=compiler, result=result)\n"
     ]
    }
   ],
   "source": [
    "## Read in raw data\n",
    "#c = pd.read_csv(\"https://transparentcalifornia.com/export/school-districts/alameda/dublin-unified-2016.csv\")\n",
    "url = \"https://transparentcalifornia.com/export/california-state-university-2016.csv\"\n",
    "url2 = \"https://transparentcalifornia.com/export/university-of-california-2016.csv\"\n",
    "\n",
    "\n",
    "s = requests.get(url, verify=False).text\n",
    "calstate = pd.read_csv(StringIO(s))\n",
    "\n",
    "s2 = requests.get(url2, verify=False).text\n",
    "uc = pd.read_csv(StringIO(s2))\n",
    "\n",
    "\n"
   ]
  },
  {
   "cell_type": "code",
   "execution_count": 44,
   "metadata": {},
   "outputs": [
    {
     "data": {
      "text/plain": [
       "542947.82999999996"
      ]
     },
     "execution_count": 44,
     "metadata": {},
     "output_type": "execute_result"
    }
   ],
   "source": [
    "calstate[calstate['Job Title'] == \"CHANCELLOR OF THE CALIFORNIA STATE UNIVERSITY\"]['Total Pay & Benefits'][0]\n"
   ]
  },
  {
   "cell_type": "code",
   "execution_count": 45,
   "metadata": {},
   "outputs": [
    {
     "name": "stdout",
     "output_type": "stream",
     "text": [
      "Average Prof. salary at Cal State\n"
     ]
    },
    {
     "data": {
      "text/plain": [
       "64456.666036729803"
      ]
     },
     "execution_count": 45,
     "metadata": {},
     "output_type": "execute_result"
    }
   ],
   "source": [
    "print(\"Average Prof. salary at Cal State\")\n",
    "sum(calstate[calstate['Job Title'].str.contains('PROF')]['Total Pay & Benefits'])/len(calstate[calstate['Job Title'].str.contains('PROF')]['Total Pay & Benefits'])"
   ]
  },
  {
   "cell_type": "code",
   "execution_count": 46,
   "metadata": {},
   "outputs": [
    {
     "name": "stdout",
     "output_type": "stream",
     "text": [
      "Average Coach's salary at Cal State\n"
     ]
    },
    {
     "data": {
      "text/plain": [
       "60370.560341981065"
      ]
     },
     "execution_count": 46,
     "metadata": {},
     "output_type": "execute_result"
    }
   ],
   "source": [
    "print(\"Average Coach's salary at Cal State\")\n",
    "sum(calstate[calstate['Job Title'].str.contains('COACH')]['Total Pay & Benefits'])/len(calstate[calstate['Job Title'].str.contains('COACH')]['Total Pay & Benefits'])"
   ]
  },
  {
   "cell_type": "code",
   "execution_count": 52,
   "metadata": {},
   "outputs": [
    {
     "name": "stdout",
     "output_type": "stream",
     "text": [
      "Average Lecturer's salary at Cal State\n"
     ]
    },
    {
     "data": {
      "text/plain": [
       "26043.718157424217"
      ]
     },
     "execution_count": 52,
     "metadata": {},
     "output_type": "execute_result"
    }
   ],
   "source": [
    "print(\"Average Lecturer's salary at Cal State\")\n",
    "sum(calstate[calstate['Job Title'].str.contains('LECTURER')]['Total Pay & Benefits'])/len(calstate[calstate['Job Title'].str.contains('LECTURER')]['Total Pay & Benefits'])"
   ]
  },
  {
   "cell_type": "code",
   "execution_count": 54,
   "metadata": {},
   "outputs": [
    {
     "data": {
      "text/plain": [
       "526      230747.27\n",
       "663      222403.36\n",
       "703      219742.19\n",
       "725      218973.46\n",
       "938      208787.44\n",
       "1004     206148.15\n",
       "1038     205342.57\n",
       "1067     204403.17\n",
       "1079     203941.71\n",
       "1245     198519.02\n",
       "1389     194832.30\n",
       "1696     187818.49\n",
       "1777     186095.51\n",
       "2141     179789.29\n",
       "2212     178547.91\n",
       "2437     175028.89\n",
       "2544     173598.85\n",
       "2568     173274.39\n",
       "2607     172794.19\n",
       "2692     171884.04\n",
       "2704     171717.13\n",
       "2880     169337.20\n",
       "3135     166197.75\n",
       "3449     162395.03\n",
       "3581     160983.33\n",
       "3589     160921.50\n",
       "3619     160626.28\n",
       "3771     159095.39\n",
       "3807     158727.09\n",
       "3994     157120.95\n",
       "           ...    \n",
       "87782         0.00\n",
       "87783         0.00\n",
       "87792         0.00\n",
       "87798         0.00\n",
       "87800         0.00\n",
       "87801         0.00\n",
       "87802         0.00\n",
       "87807         0.00\n",
       "87808         0.00\n",
       "87813         0.00\n",
       "87814         0.00\n",
       "87815         0.00\n",
       "87823         0.00\n",
       "87824         0.00\n",
       "87825         0.00\n",
       "87826         0.00\n",
       "87827         0.00\n",
       "87830         0.00\n",
       "87836         0.00\n",
       "87837         0.00\n",
       "87838         0.00\n",
       "87846         0.00\n",
       "87851         0.00\n",
       "87852         0.00\n",
       "87853         0.00\n",
       "87854         0.00\n",
       "87855         0.00\n",
       "87859     -1307.36\n",
       "87861     -4280.91\n",
       "87863    -11687.05\n",
       "Name: Total Pay & Benefits, Length: 24037, dtype: float64"
      ]
     },
     "execution_count": 54,
     "metadata": {},
     "output_type": "execute_result"
    }
   ],
   "source": [
    "calstate[calstate['Job Title'].str.contains('LECTURER')]['Name']"
   ]
  },
  {
   "cell_type": "code",
   "execution_count": 48,
   "metadata": {},
   "outputs": [
    {
     "name": "stdout",
     "output_type": "stream",
     "text": [
      "Budget for Pay and Benefits at Cal State\n"
     ]
    },
    {
     "data": {
      "text/plain": [
       "4388893230.360198"
      ]
     },
     "execution_count": 48,
     "metadata": {},
     "output_type": "execute_result"
    }
   ],
   "source": [
    "print(\"Budget for Pay and Benefits at Cal State\")\n",
    "sum(calstate['Total Pay & Benefits'])"
   ]
  },
  {
   "cell_type": "code",
   "execution_count": 49,
   "metadata": {},
   "outputs": [
    {
     "name": "stdout",
     "output_type": "stream",
     "text": [
      "Average Prof. salary at Univ. of Cal.\n"
     ]
    },
    {
     "data": {
      "text/plain": [
       "212518.49188294349"
      ]
     },
     "execution_count": 49,
     "metadata": {},
     "output_type": "execute_result"
    }
   ],
   "source": [
    "print(\"Average Prof. salary at Univ. of Cal.\")\n",
    "sum(uc[uc['Job Title'].str.contains('PROF')]['Total Pay & Benefits'])/len(uc[uc['Job Title'].str.contains('PROF')]['Total Pay & Benefits'])"
   ]
  },
  {
   "cell_type": "code",
   "execution_count": 50,
   "metadata": {},
   "outputs": [
    {
     "name": "stdout",
     "output_type": "stream",
     "text": [
      "Average Coach's salary at Univ. of Cal.\n"
     ]
    },
    {
     "data": {
      "text/plain": [
       "95854.456035767507"
      ]
     },
     "execution_count": 50,
     "metadata": {},
     "output_type": "execute_result"
    }
   ],
   "source": [
    "print(\"Average Coach's salary at Univ. of Cal.\")\n",
    "sum(uc[uc['Job Title'].str.contains('COACH')]['Total Pay & Benefits'])/len(uc[uc['Job Title'].str.contains('COACH')]['Total Pay & Benefits'])"
   ]
  },
  {
   "cell_type": "code",
   "execution_count": 51,
   "metadata": {
    "scrolled": true
   },
   "outputs": [
    {
     "name": "stdout",
     "output_type": "stream",
     "text": [
      "Budget for Pay and Benefits at UC\n"
     ]
    },
    {
     "data": {
      "text/plain": [
       "17316327480.0"
      ]
     },
     "execution_count": 51,
     "metadata": {},
     "output_type": "execute_result"
    }
   ],
   "source": [
    "print(\"Budget for Pay and Benefits at UC\")\n",
    "sum(uc['Total Pay & Benefits'])\n"
   ]
  },
  {
   "cell_type": "code",
   "execution_count": null,
   "metadata": {},
   "outputs": [],
   "source": []
  },
  {
   "cell_type": "code",
   "execution_count": null,
   "metadata": {},
   "outputs": [],
   "source": []
  },
  {
   "cell_type": "code",
   "execution_count": null,
   "metadata": {},
   "outputs": [],
   "source": []
  },
  {
   "cell_type": "code",
   "execution_count": null,
   "metadata": {
    "collapsed": true
   },
   "outputs": [],
   "source": []
  },
  {
   "cell_type": "code",
   "execution_count": null,
   "metadata": {},
   "outputs": [],
   "source": []
  },
  {
   "cell_type": "code",
   "execution_count": null,
   "metadata": {
    "collapsed": true
   },
   "outputs": [],
   "source": []
  },
  {
   "cell_type": "code",
   "execution_count": null,
   "metadata": {
    "scrolled": false
   },
   "outputs": [],
   "source": []
  },
  {
   "cell_type": "code",
   "execution_count": null,
   "metadata": {
    "collapsed": true
   },
   "outputs": [],
   "source": []
  },
  {
   "cell_type": "code",
   "execution_count": null,
   "metadata": {
    "collapsed": true
   },
   "outputs": [],
   "source": []
  }
 ],
 "metadata": {
  "kernelspec": {
   "display_name": "Python 3",
   "language": "python",
   "name": "python3"
  },
  "language_info": {
   "codemirror_mode": {
    "name": "ipython",
    "version": 3
   },
   "file_extension": ".py",
   "mimetype": "text/x-python",
   "name": "python",
   "nbconvert_exporter": "python",
   "pygments_lexer": "ipython3",
   "version": "3.6.1"
  }
 },
 "nbformat": 4,
 "nbformat_minor": 2
}
