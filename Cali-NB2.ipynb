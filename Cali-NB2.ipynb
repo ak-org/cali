{
 "cells": [
  {
   "cell_type": "code",
   "execution_count": 42,
   "metadata": {
    "collapsed": true
   },
   "outputs": [],
   "source": [
    "import numpy as np\n",
    "import pandas as pd\n",
    "import io\n",
    "import requests\n",
    "from urllib.request import urlopen\n",
    "from io import StringIO\n",
    "import matplotlib.pyplot as plt"
   ]
  },
  {
   "cell_type": "code",
   "execution_count": 56,
   "metadata": {},
   "outputs": [
    {
     "name": "stderr",
     "output_type": "stream",
     "text": [
      "/Users/exc7s65/anaconda/lib/python3.6/site-packages/requests/packages/urllib3/connectionpool.py:852: InsecureRequestWarning: Unverified HTTPS request is being made. Adding certificate verification is strongly advised. See: https://urllib3.readthedocs.io/en/latest/advanced-usage.html#ssl-warnings\n",
      "  InsecureRequestWarning)\n",
      "/Users/exc7s65/anaconda/lib/python3.6/site-packages/IPython/core/interactiveshell.py:2717: DtypeWarning: Columns (2,3,4,5) have mixed types. Specify dtype option on import or set low_memory=False.\n",
      "  interactivity=interactivity, compiler=compiler, result=result)\n",
      "/Users/exc7s65/anaconda/lib/python3.6/site-packages/requests/packages/urllib3/connectionpool.py:852: InsecureRequestWarning: Unverified HTTPS request is being made. Adding certificate verification is strongly advised. See: https://urllib3.readthedocs.io/en/latest/advanced-usage.html#ssl-warnings\n",
      "  InsecureRequestWarning)\n",
      "/Users/exc7s65/anaconda/lib/python3.6/site-packages/IPython/core/interactiveshell.py:2717: DtypeWarning: Columns (3,4) have mixed types. Specify dtype option on import or set low_memory=False.\n",
      "  interactivity=interactivity, compiler=compiler, result=result)\n"
     ]
    },
    {
     "data": {
      "text/html": [
       "<div>\n",
       "<style>\n",
       "    .dataframe thead tr:only-child th {\n",
       "        text-align: right;\n",
       "    }\n",
       "\n",
       "    .dataframe thead th {\n",
       "        text-align: left;\n",
       "    }\n",
       "\n",
       "    .dataframe tbody tr th {\n",
       "        vertical-align: top;\n",
       "    }\n",
       "</style>\n",
       "<table border=\"1\" class=\"dataframe\">\n",
       "  <thead>\n",
       "    <tr style=\"text-align: right;\">\n",
       "      <th></th>\n",
       "      <th>Employee Name</th>\n",
       "      <th>Job Title</th>\n",
       "      <th>Base Pay</th>\n",
       "      <th>Overtime Pay</th>\n",
       "      <th>Other Pay</th>\n",
       "      <th>Benefits</th>\n",
       "      <th>Total Pay</th>\n",
       "      <th>Total Pay &amp; Benefits</th>\n",
       "      <th>Year</th>\n",
       "      <th>Notes</th>\n",
       "      <th>Agency</th>\n",
       "      <th>Status</th>\n",
       "    </tr>\n",
       "  </thead>\n",
       "  <tbody>\n",
       "    <tr>\n",
       "      <th>0</th>\n",
       "      <td>Timothy P White</td>\n",
       "      <td>CHANCELLOR OF THE CALIFORNIA STATE UNIVERSITY</td>\n",
       "      <td>400546</td>\n",
       "      <td>0</td>\n",
       "      <td>15139.7</td>\n",
       "      <td>127262</td>\n",
       "      <td>415685.47</td>\n",
       "      <td>542947.83</td>\n",
       "      <td>2016</td>\n",
       "      <td>NaN</td>\n",
       "      <td>California State University</td>\n",
       "      <td>NaN</td>\n",
       "    </tr>\n",
       "    <tr>\n",
       "      <th>1</th>\n",
       "      <td>Elliot L Hirshman</td>\n",
       "      <td>PRESIDENT</td>\n",
       "      <td>369076</td>\n",
       "      <td>0</td>\n",
       "      <td>13032</td>\n",
       "      <td>119366</td>\n",
       "      <td>382108.22</td>\n",
       "      <td>501474.34</td>\n",
       "      <td>2016</td>\n",
       "      <td>NaN</td>\n",
       "      <td>California State University</td>\n",
       "      <td>NaN</td>\n",
       "    </tr>\n",
       "    <tr>\n",
       "      <th>2</th>\n",
       "      <td>Jeffrey D Armstrong</td>\n",
       "      <td>PRESIDENT</td>\n",
       "      <td>369112</td>\n",
       "      <td>0</td>\n",
       "      <td>12407</td>\n",
       "      <td>113912</td>\n",
       "      <td>381518.92</td>\n",
       "      <td>495430.50</td>\n",
       "      <td>2016</td>\n",
       "      <td>NaN</td>\n",
       "      <td>California State University</td>\n",
       "      <td>NaN</td>\n",
       "    </tr>\n",
       "    <tr>\n",
       "      <th>3</th>\n",
       "      <td>Leroy M Morishita</td>\n",
       "      <td>PRESIDENT</td>\n",
       "      <td>316321</td>\n",
       "      <td>0</td>\n",
       "      <td>73584</td>\n",
       "      <td>100309</td>\n",
       "      <td>389904.99</td>\n",
       "      <td>490213.96</td>\n",
       "      <td>2016</td>\n",
       "      <td>NaN</td>\n",
       "      <td>California State University</td>\n",
       "      <td>NaN</td>\n",
       "    </tr>\n",
       "    <tr>\n",
       "      <th>4</th>\n",
       "      <td>William A Covino</td>\n",
       "      <td>PRESIDENT</td>\n",
       "      <td>315274</td>\n",
       "      <td>0</td>\n",
       "      <td>75048</td>\n",
       "      <td>99034.6</td>\n",
       "      <td>390322.24</td>\n",
       "      <td>489356.81</td>\n",
       "      <td>2016</td>\n",
       "      <td>NaN</td>\n",
       "      <td>California State University</td>\n",
       "      <td>NaN</td>\n",
       "    </tr>\n",
       "  </tbody>\n",
       "</table>\n",
       "</div>"
      ],
      "text/plain": [
       "         Employee Name                                      Job Title  \\\n",
       "0      Timothy P White  CHANCELLOR OF THE CALIFORNIA STATE UNIVERSITY   \n",
       "1    Elliot L Hirshman                                      PRESIDENT   \n",
       "2  Jeffrey D Armstrong                                      PRESIDENT   \n",
       "3    Leroy M Morishita                                      PRESIDENT   \n",
       "4     William A Covino                                      PRESIDENT   \n",
       "\n",
       "  Base Pay Overtime Pay Other Pay Benefits  Total Pay  Total Pay & Benefits  \\\n",
       "0   400546            0   15139.7   127262  415685.47             542947.83   \n",
       "1   369076            0     13032   119366  382108.22             501474.34   \n",
       "2   369112            0     12407   113912  381518.92             495430.50   \n",
       "3   316321            0     73584   100309  389904.99             490213.96   \n",
       "4   315274            0     75048  99034.6  390322.24             489356.81   \n",
       "\n",
       "   Year  Notes                       Agency  Status  \n",
       "0  2016    NaN  California State University     NaN  \n",
       "1  2016    NaN  California State University     NaN  \n",
       "2  2016    NaN  California State University     NaN  \n",
       "3  2016    NaN  California State University     NaN  \n",
       "4  2016    NaN  California State University     NaN  "
      ]
     },
     "execution_count": 56,
     "metadata": {},
     "output_type": "execute_result"
    }
   ],
   "source": [
    "## Read in raw data\n",
    "#c = pd.read_csv(\"https://transparentcalifornia.com/export/school-districts/alameda/dublin-unified-2016.csv\")\n",
    "url = \"https://transparentcalifornia.com/export/california-state-university-2016.csv\"\n",
    "url2 = \"https://transparentcalifornia.com/export/university-of-california-2016.csv\"\n",
    "\n",
    "\n",
    "s = requests.get(url, verify=False).text\n",
    "calstate = pd.read_csv(StringIO(s))\n",
    "\n",
    "s2 = requests.get(url2, verify=False).text\n",
    "uc = pd.read_csv(StringIO(s2))\n",
    "\n",
    "\n",
    "calstate.head()"
   ]
  },
  {
   "cell_type": "code",
   "execution_count": 44,
   "metadata": {},
   "outputs": [
    {
     "data": {
      "text/plain": [
       "542947.82999999996"
      ]
     },
     "execution_count": 44,
     "metadata": {},
     "output_type": "execute_result"
    }
   ],
   "source": [
    "calstate[calstate['Job Title'] == \"CHANCELLOR OF THE CALIFORNIA STATE UNIVERSITY\"]['Total Pay & Benefits'][0]\n"
   ]
  },
  {
   "cell_type": "code",
   "execution_count": 45,
   "metadata": {},
   "outputs": [
    {
     "name": "stdout",
     "output_type": "stream",
     "text": [
      "Average Prof. salary at Cal State\n"
     ]
    },
    {
     "data": {
      "text/plain": [
       "64456.666036729803"
      ]
     },
     "execution_count": 45,
     "metadata": {},
     "output_type": "execute_result"
    }
   ],
   "source": [
    "print(\"Average Prof. salary at Cal State\")\n",
    "sum(calstate[calstate['Job Title'].str.contains('PROF')]['Total Pay & Benefits'])/len(calstate[calstate['Job Title'].str.contains('PROF')]['Total Pay & Benefits'])"
   ]
  },
  {
   "cell_type": "code",
   "execution_count": 46,
   "metadata": {},
   "outputs": [
    {
     "name": "stdout",
     "output_type": "stream",
     "text": [
      "Average Coach's salary at Cal State\n"
     ]
    },
    {
     "data": {
      "text/plain": [
       "60370.560341981065"
      ]
     },
     "execution_count": 46,
     "metadata": {},
     "output_type": "execute_result"
    }
   ],
   "source": [
    "print(\"Average Coach's salary at Cal State\")\n",
    "sum(calstate[calstate['Job Title'].str.contains('COACH')]['Total Pay & Benefits'])/len(calstate[calstate['Job Title'].str.contains('COACH')]['Total Pay & Benefits'])"
   ]
  },
  {
   "cell_type": "code",
   "execution_count": 52,
   "metadata": {},
   "outputs": [
    {
     "name": "stdout",
     "output_type": "stream",
     "text": [
      "Average Lecturer's salary at Cal State\n"
     ]
    },
    {
     "data": {
      "text/plain": [
       "26043.718157424217"
      ]
     },
     "execution_count": 52,
     "metadata": {},
     "output_type": "execute_result"
    }
   ],
   "source": [
    "print(\"Average Lecturer's salary at Cal State\")\n",
    "sum(calstate[calstate['Job Title'].str.contains('LECTURER')]['Total Pay & Benefits'])/len(calstate[calstate['Job Title'].str.contains('LECTURER')]['Total Pay & Benefits'])"
   ]
  },
  {
   "cell_type": "code",
   "execution_count": 57,
   "metadata": {},
   "outputs": [
    {
     "data": {
      "text/plain": [
       "526             Ernest J Licalsi\n",
       "663            Louie B Anderholt\n",
       "703                Sung Won Sohn\n",
       "725               Timothy A Kams\n",
       "938               Raymond A Cota\n",
       "1004            Donald F Gaffney\n",
       "1038     Kathleen M Lewis-Bowman\n",
       "1067             Blaine K Bowman\n",
       "1079             Gilbert G Ochoa\n",
       "1245             Poli Flores  Jr\n",
       "1389                Lois B Olson\n",
       "1696                 Vijay Karan\n",
       "1777                 John M Eger\n",
       "2141            Katie D Mortimer\n",
       "2212              Scott Hornbeak\n",
       "2437           Spiros Velianitis\n",
       "2544               Janie P Yadon\n",
       "2568             Daniel H Harkey\n",
       "2607               Mark Laumakis\n",
       "2692           Rudolph I Estrada\n",
       "2704           Richard T Sammons\n",
       "2880          Elizabeth J Bigham\n",
       "3135            Diane E Mayfield\n",
       "3449            Dorothy L Zirkle\n",
       "3581               Lisa L Isbell\n",
       "3589                 John P Todd\n",
       "3619        Jacqueline B Sherman\n",
       "3771           Charlotte M Lopes\n",
       "3807               James W Scott\n",
       "3994            Tom Schmidhauser\n",
       "                  ...           \n",
       "87782                 Zhonghe Wu\n",
       "87783                    Hong Xu\n",
       "87792          Tessa Marie Pitre\n",
       "87798             Michael  S Ray\n",
       "87800               Linh B Trinh\n",
       "87801             Bruce D Miller\n",
       "87802              Marta O Davis\n",
       "87807                 Weifu Liao\n",
       "87808                Teresa Diaz\n",
       "87813              Amy  A Strage\n",
       "87814                 Danvy Q Le\n",
       "87815         Daniel J Eberhardt\n",
       "87823              Larry F Hanne\n",
       "87824          Michael L Griffin\n",
       "87825             Kevin D Dalton\n",
       "87826             Gregory S Cory\n",
       "87827          Kristin K Minetti\n",
       "87830              Jeb H Sprague\n",
       "87836               Garet R Zook\n",
       "87837             Jodie L Steele\n",
       "87838              John R Planck\n",
       "87846            Jennie J Enholm\n",
       "87851          Jennifer B Yaffee\n",
       "87852          Tracey E Takeuchi\n",
       "87853                Md A Rahman\n",
       "87854                Saba  H Ali\n",
       "87855             John  A Miller\n",
       "87859            Steven E Slezak\n",
       "87861                 Jinmei Lun\n",
       "87863            Peter T Tiziani\n",
       "Name: Employee Name, Length: 24037, dtype: object"
      ]
     },
     "execution_count": 57,
     "metadata": {},
     "output_type": "execute_result"
    }
   ],
   "source": [
    "calstate[calstate['Job Title'].str.contains('LECTURER')]['Employee Name']"
   ]
  },
  {
   "cell_type": "code",
   "execution_count": 48,
   "metadata": {},
   "outputs": [
    {
     "name": "stdout",
     "output_type": "stream",
     "text": [
      "Budget for Pay and Benefits at Cal State\n"
     ]
    },
    {
     "data": {
      "text/plain": [
       "4388893230.360198"
      ]
     },
     "execution_count": 48,
     "metadata": {},
     "output_type": "execute_result"
    }
   ],
   "source": [
    "print(\"Budget for Pay and Benefits at Cal State\")\n",
    "sum(calstate['Total Pay & Benefits'])"
   ]
  },
  {
   "cell_type": "code",
   "execution_count": 49,
   "metadata": {},
   "outputs": [
    {
     "name": "stdout",
     "output_type": "stream",
     "text": [
      "Average Prof. salary at Univ. of Cal.\n"
     ]
    },
    {
     "data": {
      "text/plain": [
       "212518.49188294349"
      ]
     },
     "execution_count": 49,
     "metadata": {},
     "output_type": "execute_result"
    }
   ],
   "source": [
    "print(\"Average Prof. salary at Univ. of Cal.\")\n",
    "sum(uc[uc['Job Title'].str.contains('PROF')]['Total Pay & Benefits'])/len(uc[uc['Job Title'].str.contains('PROF')]['Total Pay & Benefits'])"
   ]
  },
  {
   "cell_type": "code",
   "execution_count": 50,
   "metadata": {},
   "outputs": [
    {
     "name": "stdout",
     "output_type": "stream",
     "text": [
      "Average Coach's salary at Univ. of Cal.\n"
     ]
    },
    {
     "data": {
      "text/plain": [
       "95854.456035767507"
      ]
     },
     "execution_count": 50,
     "metadata": {},
     "output_type": "execute_result"
    }
   ],
   "source": [
    "print(\"Average Coach's salary at Univ. of Cal.\")\n",
    "sum(uc[uc['Job Title'].str.contains('COACH')]['Total Pay & Benefits'])/len(uc[uc['Job Title'].str.contains('COACH')]['Total Pay & Benefits'])"
   ]
  },
  {
   "cell_type": "code",
   "execution_count": 51,
   "metadata": {
    "scrolled": true
   },
   "outputs": [
    {
     "name": "stdout",
     "output_type": "stream",
     "text": [
      "Budget for Pay and Benefits at UC\n"
     ]
    },
    {
     "data": {
      "text/plain": [
       "17316327480.0"
      ]
     },
     "execution_count": 51,
     "metadata": {},
     "output_type": "execute_result"
    }
   ],
   "source": [
    "print(\"Budget for Pay and Benefits at UC\")\n",
    "sum(uc['Total Pay & Benefits'])\n"
   ]
  },
  {
   "cell_type": "code",
   "execution_count": null,
   "metadata": {},
   "outputs": [],
   "source": []
  },
  {
   "cell_type": "code",
   "execution_count": null,
   "metadata": {},
   "outputs": [],
   "source": []
  },
  {
   "cell_type": "code",
   "execution_count": null,
   "metadata": {},
   "outputs": [],
   "source": []
  },
  {
   "cell_type": "code",
   "execution_count": null,
   "metadata": {
    "collapsed": true
   },
   "outputs": [],
   "source": []
  },
  {
   "cell_type": "code",
   "execution_count": null,
   "metadata": {},
   "outputs": [],
   "source": []
  },
  {
   "cell_type": "code",
   "execution_count": null,
   "metadata": {
    "collapsed": true
   },
   "outputs": [],
   "source": []
  },
  {
   "cell_type": "code",
   "execution_count": null,
   "metadata": {
    "scrolled": false
   },
   "outputs": [],
   "source": []
  },
  {
   "cell_type": "code",
   "execution_count": null,
   "metadata": {
    "collapsed": true
   },
   "outputs": [],
   "source": []
  },
  {
   "cell_type": "code",
   "execution_count": null,
   "metadata": {
    "collapsed": true
   },
   "outputs": [],
   "source": []
  }
 ],
 "metadata": {
  "kernelspec": {
   "display_name": "Python 3",
   "language": "python",
   "name": "python3"
  },
  "language_info": {
   "codemirror_mode": {
    "name": "ipython",
    "version": 3
   },
   "file_extension": ".py",
   "mimetype": "text/x-python",
   "name": "python",
   "nbconvert_exporter": "python",
   "pygments_lexer": "ipython3",
   "version": "3.6.1"
  }
 },
 "nbformat": 4,
 "nbformat_minor": 2
}
